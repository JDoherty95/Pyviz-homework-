{
 "cells": [
  {
   "cell_type": "code",
   "execution_count": null,
   "id": "54c9e493",
   "metadata": {},
   "outputs": [],
   "source": [
    "# initial imports\n",
    "import os\n",
    "import numpy as np\n",
    "import pandas as pd\n",
    "import matplotlib.pyplot as plt\n",
    "import hvplot.pandas\n",
    "import plotly.express as px\n",
    "from pathlib import Path\n",
    "from dotenv import load_dotenv\n",
    "\n",
    "\n",
    "%matplotlib inline"
   ]
  },
  {
   "cell_type": "code",
   "execution_count": null,
   "id": "02da772c",
   "metadata": {},
   "outputs": [],
   "source": [
    "# Set up API credentials\n",
    "# Read the Mapbox API key\n",
    "load_dotenv()\n",
    "map_box_api = os.getenv(\"mapbox\")\n",
    "\n",
    "# Set the Mapbox API\n",
    "px.set_mapbox_access_token(map_box_api)"
   ]
  },
  {
   "cell_type": "code",
   "execution_count": null,
   "id": "9d9a46be",
   "metadata": {},
   "outputs": [],
   "source": [
    "# Read the census data into a Pandas DataFrame\n",
    "file_path = Path(\"sfo_neighborhoods_census_data.csv\")\n",
    "sfo_data = pd.read_csv(file_path, index_col=\"year\")\n",
    "sfo_data.head()"
   ]
  },
  {
   "cell_type": "code",
   "execution_count": null,
   "id": "d54ab8e9",
   "metadata": {},
   "outputs": [],
   "source": [
    "# Calculate the mean number of housing units per year (hint: use groupby) \n",
    "figHousingUnits = sfo_data['housing_units'].groupby('year').mean()\n",
    "figHousingUnits"
   ]
  },
  {
   "cell_type": "code",
   "execution_count": null,
   "id": "be2bd384",
   "metadata": {},
   "outputs": [],
   "source": [
    "# Use the Pandas plot function to plot the average housing units per year.\n",
    "# Note: You will need to manually adjust the y limit of the chart using the min and max values from above.\n",
    "minUnits = min(figHousingUnits)\n",
    "maxUnits = max(figHousingUnits)\n",
    "stdUnits = figHousingUnits.std()\n",
    "\n",
    "# Optional Challenge: Use the min, max, and std to scale the y limits of the chart\n",
    "plt.bar(\n",
    "    figHousingUnits.index,\n",
    "    figHousingUnits,\n",
    ")\n",
    "plt.ylim(\n",
    "    (minUnits - stdUnits),\n",
    "    (maxUnits + stdUnits)\n",
    ")\n",
    "plt.suptitle(\n",
    "    'Housing Units in San Francisco from 2010 to 2016',\n",
    "    weight='bold'\n",
    ")\n",
    "plt.xlabel('Year')\n",
    "plt.ylabel('Housing Units')\n",
    "plt.show()\n",
    "plt.close()"
   ]
  },
  {
   "cell_type": "code",
   "execution_count": null,
   "id": "e8bf8ab1",
   "metadata": {},
   "outputs": [],
   "source": [
    "# Calculate the average gross rent and average sale price per square foot\n",
    "salesRent = sfo_data[['sale_price_sqr_foot', 'gross_rent']].groupby('year').mean()\n",
    "salesRent"
   ]
  },
  {
   "cell_type": "code",
   "execution_count": null,
   "id": "3039f28b",
   "metadata": {},
   "outputs": [],
   "source": [
    "# Plot the Average Gross Rent per Year as a Line Chart \n",
    "plt.plot(\n",
    "    salesRent.index, \n",
    "    salesRent['gross_rent']\n",
    ")\n",
    "plt.xlim(\n",
    "    salesRent.index[0],\n",
    "    salesRent.index[-1]\n",
    ")\n",
    "plt.suptitle(\n",
    "    'Average Gross Rent in San Francisco',\n",
    "    weight='bold'\n",
    ")\n",
    "plt.xlabel('Year')\n",
    "plt.ylabel('Gross Rent')\n",
    "plt.show()\n",
    "plt.close()\n"
   ]
  },
  {
   "cell_type": "code",
   "execution_count": null,
   "id": "b12c3d51",
   "metadata": {},
   "outputs": [],
   "source": [
    "# Plot the Average Sales Price per Year as a line chart\n",
    "plt.plot(salesRent.index, salesRent['sale_price_sqr_foot'])\n",
    "plt.xlim(salesRent.index[0],salesRent.index[-1])\n",
    "plt.suptitle('Average Sale Price per Square Foot in San Francisco', weight='bold')\n",
    "plt.xlabel('Year')\n",
    "plt.ylabel('Avg. Sale Price')\n",
    "plt.show()\n",
    "plt.close()\n"
   ]
  },
  {
   "cell_type": "code",
   "execution_count": null,
   "id": "eae4b84e",
   "metadata": {},
   "outputs": [],
   "source": [
    "# Group by year and neighborhood and then create a new dataframe of the mean values\n",
    "sfoDF = sfo_data.groupby(['year', 'neighborhood']).mean()\n",
    "sfoDF.head(10)"
   ]
  },
  {
   "cell_type": "code",
   "execution_count": null,
   "id": "7652ff9f",
   "metadata": {},
   "outputs": [],
   "source": [
    "# Use hvplot to create an interactive line chart of the average price per sq ft.\n",
    "# The plot should have a dropdown selector for the neighborhood\n",
    "sfoDF['sale_price_sqr_foot'].hvplot(\n",
    "    xlabel='year',\n",
    "    ylabel='average sale per square foot',\n",
    "    label=' ',\n",
    "    groupby='neighborhood',\n",
    "    height=300,\n",
    "    width=450\n",
    ")"
   ]
  },
  {
   "cell_type": "code",
   "execution_count": null,
   "id": "1626ef31",
   "metadata": {},
   "outputs": [],
   "source": [
    "# Getting the data from the top 10 expensive neighborhoods\n",
    "mostExpensive = sfo_data.groupby('neighborhood').mean().sort_values(ascending=False, by='sale_price_sqr_foot')"
   ]
  },
  {
   "cell_type": "code",
   "execution_count": null,
   "id": "42b48743",
   "metadata": {},
   "outputs": [],
   "source": [
    "# Plotting the data from the top 10 expensive neighborhoods\n",
    "mostExpensive['sale_price_sqr_foot'].hvplot.bar(\n",
    "    ylabel='average sale price per square foot',\n",
    "    xlabel='neighborhood',\n",
    "    label='top 10 most expensive neighborhoods',\n",
    "    rot=40,\n",
    "    height=400,\n",
    "    width=650,\n",
    ")"
   ]
  },
  {
   "cell_type": "code",
   "execution_count": null,
   "id": "00fcf6fd",
   "metadata": {},
   "outputs": [],
   "source": [
    "# Parallel Coordinates Plot\n",
    "px.parallel_coordinates(\n",
    "    mostExpensive.head(10),\n",
    "    color='sale_price_sqr_foot'\n",
    ")\n"
   ]
  },
  {
   "cell_type": "code",
   "execution_count": null,
   "id": "463e8a48",
   "metadata": {},
   "outputs": [],
   "source": [
    "# Parallel Categories Plot\n",
    "parallel_df = mostExpensive.reset_index()\n",
    "parallel_df = parallel_df.round(decimals=2)\n",
    "px.parallel_categories(\n",
    "    parallel_df.head(5),\n",
    "    color='sale_price_sqr_foot'\n",
    ")"
   ]
  },
  {
   "cell_type": "code",
   "execution_count": null,
   "id": "98f9cfe1",
   "metadata": {},
   "outputs": [],
   "source": [
    "\n",
    "# Load neighborhoods coordinates data\n",
    "file_path = Path(\"neighborhoods_coordinates.csv\")\n",
    "df_neighborhood_locations = pd.read_csv(file_path)\n",
    "df_neighborhood_locations.head()"
   ]
  },
  {
   "cell_type": "code",
   "execution_count": null,
   "id": "a027f234",
   "metadata": {},
   "outputs": [],
   "source": [
    "# Calculate the mean values for each neighborhood\n",
    "allNeighborhoods = sfo_data.groupby(by=\"neighborhood\").mean()\n",
    "allNeighborhoods.reset_index(inplace=True)\n",
    "allNeighborhoods.rename(columns={\"neighborhood\": \"Neighborhood\"}, inplace=True)\n",
    "allNeighborhoods.head()\n"
   ]
  },
  {
   "cell_type": "code",
   "execution_count": null,
   "id": "142934de",
   "metadata": {},
   "outputs": [],
   "source": [
    "# Join the average values with the neighborhood locations\n",
    "allNeighborhoods = pd.merge(\n",
    "    df_neighborhood_locations, allNeighborhoods, on=\"Neighborhood\"\n",
    ")\n",
    "allNeighborhoods.head()"
   ]
  },
  {
   "cell_type": "code",
   "execution_count": null,
   "id": "a0d3f380",
   "metadata": {},
   "outputs": [],
   "source": [
    "# Create a scatter mapbox to analyze neighborhood info\n",
    "px.set_mapbox_access_token(mapbox_token)\n",
    "map = px.scatter_mapbox(\n",
    "    allNeighborhoods,\n",
    "    lat=\"Lat\",\n",
    "    lon=\"Lon\",\n",
    "    size=\"sale_price_sqr_foot\",\n",
    "    color=\"gross_rent\",\n",
    "    size_max=15,\n",
    "    zoom=11,\n",
    "    hover_name=\"Neighborhood\",\n",
    "    title=\"Averange Sale Price Per Square Foot and Gross Rent in San Francisco\",\n",
    " \n",
    "    \n",
    ")\n",
    "map.show()"
   ]
  },
  {
   "cell_type": "code",
   "execution_count": null,
   "id": "55962ab2",
   "metadata": {},
   "outputs": [],
   "source": []
  },
  {
   "cell_type": "code",
   "execution_count": null,
   "id": "4adef152",
   "metadata": {},
   "outputs": [],
   "source": []
  },
  {
   "cell_type": "code",
   "execution_count": null,
   "id": "78acfbea",
   "metadata": {},
   "outputs": [],
   "source": []
  }
 ],
 "metadata": {
  "kernelspec": {
   "display_name": "Python [conda env:pyvizenv] *",
   "language": "python",
   "name": "conda-env-pyvizenv-py"
  },
  "language_info": {
   "codemirror_mode": {
    "name": "ipython",
    "version": 3
   },
   "file_extension": ".py",
   "mimetype": "text/x-python",
   "name": "python",
   "nbconvert_exporter": "python",
   "pygments_lexer": "ipython3",
   "version": "3.7.10"
  }
 },
 "nbformat": 4,
 "nbformat_minor": 5
}
